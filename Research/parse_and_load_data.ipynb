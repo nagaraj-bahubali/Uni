{
 "cells": [
  {
   "cell_type": "code",
   "execution_count": null,
   "metadata": {},
   "outputs": [],
   "source": [
    "from lxml import etree\n",
    "import json\n",
    "import numpy as np"
   ]
  },
  {
   "cell_type": "code",
   "execution_count": null,
   "metadata": {},
   "outputs": [],
   "source": [
    "def main():\n",
    "    context = etree.iterparse(\"dblp.xml\", dtd_validation=True)\n",
    "    attribs=parse_features(context)\n",
    "    with open('dblp_json.json','w') as json_file:\n",
    "        json.dump(attribs,json_file)\n",
    "    json_file.close()\n",
    "        \n",
    "def parse_features(root):\n",
    "    types=[ 'www' , 'article', 'inproceedings', 'proceedings',\\\n",
    "           'incollection', 'phdthesis', 'mastersthesis']\n",
    "\n",
    "    datadict = []\n",
    "    for _,elem in root:\n",
    "        if elem.tag in types:\n",
    "            author=[]\n",
    "            try:\n",
    "                d={}\n",
    "                for a in elem.findall('author'):\n",
    "                    author.append(a.text)\n",
    "                \n",
    "                title= elem.find('title').text\n",
    "                source= elem.find('booktitle').text\n",
    "                year= elem.find('year').text\n",
    "                for row in range(len(author)):\n",
    "                    \n",
    "                    d['Author']=author[row]\n",
    "                    d['Coauthor']=author[:row]+author[row+1:]\n",
    "                    d['Title']=title\n",
    "                    d['booktitle']=source #change this to journal for records with journal tag\n",
    "                    d['Year']=year\n",
    "                    datadict.append(d)\n",
    "                    d={}\n",
    "\n",
    "\n",
    "            except:\n",
    "                continue\n",
    "    return datadict\n",
    "\n",
    "\n",
    "if __name__=='__main__':\n",
    "    main()"
   ]
  },
  {
   "cell_type": "code",
   "execution_count": null,
   "metadata": {},
   "outputs": [],
   "source": [
    "# Insert the records into Mongo database\n",
    "import pymongo\n",
    "client = pymongo.MongoClient('localhost', 27017)\n",
    "db=client.pymongo_test\n",
    "coll=db[\"dblp_database\"]\n",
    "\n",
    "with open('dblp_json.json') as f:\n",
    "    filedata=json.load(f)\n",
    "    \n",
    "coll.insert_many(filedata)  "
   ]
  }
 ],
 "metadata": {
  "kernelspec": {
   "display_name": "Python 3",
   "language": "python",
   "name": "python3"
  },
  "language_info": {
   "codemirror_mode": {
    "name": "ipython",
    "version": 3
   },
   "file_extension": ".py",
   "mimetype": "text/x-python",
   "name": "python",
   "nbconvert_exporter": "python",
   "pygments_lexer": "ipython3",
   "version": "3.7.4"
  }
 },
 "nbformat": 4,
 "nbformat_minor": 2
}